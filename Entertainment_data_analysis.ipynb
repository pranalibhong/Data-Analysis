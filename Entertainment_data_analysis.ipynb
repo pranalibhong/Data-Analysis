{
 "cells": [
  {
   "cell_type": "code",
   "execution_count": 1,
   "id": "0aabe939",
   "metadata": {},
   "outputs": [],
   "source": [
    "import pandas as pd\n",
    "import matplotlib.pyplot as plt"
   ]
  },
  {
   "cell_type": "code",
   "execution_count": 3,
   "id": "0b73eb19",
   "metadata": {},
   "outputs": [],
   "source": [
    "data1 = pd.read_excel(r\"C:\\Users\\Dell\\OneDrive\\Desktop\\unified mentor\\Entertainer Data\\Entertainer Data Analysis\\Entertainer - Basic Info.xlsx\")"
   ]
  },
  {
   "cell_type": "code",
   "execution_count": 4,
   "id": "8fb51d03",
   "metadata": {},
   "outputs": [
    {
     "data": {
      "text/html": [
       "<div>\n",
       "<style scoped>\n",
       "    .dataframe tbody tr th:only-of-type {\n",
       "        vertical-align: middle;\n",
       "    }\n",
       "\n",
       "    .dataframe tbody tr th {\n",
       "        vertical-align: top;\n",
       "    }\n",
       "\n",
       "    .dataframe thead th {\n",
       "        text-align: right;\n",
       "    }\n",
       "</style>\n",
       "<table border=\"1\" class=\"dataframe\">\n",
       "  <thead>\n",
       "    <tr style=\"text-align: right;\">\n",
       "      <th></th>\n",
       "      <th>Entertainer</th>\n",
       "      <th>Gender (traditional)</th>\n",
       "      <th>Birth Year</th>\n",
       "    </tr>\n",
       "  </thead>\n",
       "  <tbody>\n",
       "    <tr>\n",
       "      <th>0</th>\n",
       "      <td>Adele</td>\n",
       "      <td>F</td>\n",
       "      <td>1988</td>\n",
       "    </tr>\n",
       "    <tr>\n",
       "      <th>1</th>\n",
       "      <td>Angelina Jolie</td>\n",
       "      <td>F</td>\n",
       "      <td>1975</td>\n",
       "    </tr>\n",
       "    <tr>\n",
       "      <th>2</th>\n",
       "      <td>Aretha Franklin</td>\n",
       "      <td>F</td>\n",
       "      <td>1942</td>\n",
       "    </tr>\n",
       "    <tr>\n",
       "      <th>3</th>\n",
       "      <td>Bette Davis</td>\n",
       "      <td>F</td>\n",
       "      <td>1908</td>\n",
       "    </tr>\n",
       "    <tr>\n",
       "      <th>4</th>\n",
       "      <td>Betty White</td>\n",
       "      <td>F</td>\n",
       "      <td>1922</td>\n",
       "    </tr>\n",
       "    <tr>\n",
       "      <th>...</th>\n",
       "      <td>...</td>\n",
       "      <td>...</td>\n",
       "      <td>...</td>\n",
       "    </tr>\n",
       "    <tr>\n",
       "      <th>65</th>\n",
       "      <td>Tom Hanks</td>\n",
       "      <td>M</td>\n",
       "      <td>1956</td>\n",
       "    </tr>\n",
       "    <tr>\n",
       "      <th>66</th>\n",
       "      <td>Tony Bennett</td>\n",
       "      <td>M</td>\n",
       "      <td>1926</td>\n",
       "    </tr>\n",
       "    <tr>\n",
       "      <th>67</th>\n",
       "      <td>Wayne Newton</td>\n",
       "      <td>M</td>\n",
       "      <td>1942</td>\n",
       "    </tr>\n",
       "    <tr>\n",
       "      <th>68</th>\n",
       "      <td>Will Smith</td>\n",
       "      <td>M</td>\n",
       "      <td>1968</td>\n",
       "    </tr>\n",
       "    <tr>\n",
       "      <th>69</th>\n",
       "      <td>Willie Nelson</td>\n",
       "      <td>M</td>\n",
       "      <td>1933</td>\n",
       "    </tr>\n",
       "  </tbody>\n",
       "</table>\n",
       "<p>70 rows × 3 columns</p>\n",
       "</div>"
      ],
      "text/plain": [
       "        Entertainer Gender (traditional)  Birth Year\n",
       "0             Adele                    F        1988\n",
       "1    Angelina Jolie                    F        1975\n",
       "2   Aretha Franklin                    F        1942\n",
       "3       Bette Davis                    F        1908\n",
       "4       Betty White                    F        1922\n",
       "..              ...                  ...         ...\n",
       "65        Tom Hanks                    M        1956\n",
       "66     Tony Bennett                    M        1926\n",
       "67     Wayne Newton                    M        1942\n",
       "68       Will Smith                    M        1968\n",
       "69    Willie Nelson                    M        1933\n",
       "\n",
       "[70 rows x 3 columns]"
      ]
     },
     "execution_count": 4,
     "metadata": {},
     "output_type": "execute_result"
    }
   ],
   "source": [
    "data1"
   ]
  },
  {
   "cell_type": "code",
   "execution_count": 16,
   "id": "275202de",
   "metadata": {},
   "outputs": [],
   "source": [
    "data2 = pd.read_excel(r\"C:\\Users\\Dell\\OneDrive\\Desktop\\unified mentor\\Entertainer Data\\Entertainer Data Analysis\\Entertainer - Breakthrough Info.xlsx\")"
   ]
  },
  {
   "cell_type": "code",
   "execution_count": 17,
   "id": "52c722eb",
   "metadata": {
    "scrolled": true
   },
   "outputs": [
    {
     "data": {
      "text/html": [
       "<div>\n",
       "<style scoped>\n",
       "    .dataframe tbody tr th:only-of-type {\n",
       "        vertical-align: middle;\n",
       "    }\n",
       "\n",
       "    .dataframe tbody tr th {\n",
       "        vertical-align: top;\n",
       "    }\n",
       "\n",
       "    .dataframe thead th {\n",
       "        text-align: right;\n",
       "    }\n",
       "</style>\n",
       "<table border=\"1\" class=\"dataframe\">\n",
       "  <thead>\n",
       "    <tr style=\"text-align: right;\">\n",
       "      <th></th>\n",
       "      <th>Entertainer</th>\n",
       "      <th>Year of Breakthrough/#1 Hit/Award Nomination</th>\n",
       "      <th>Breakthrough Name</th>\n",
       "      <th>Year of First Oscar/Grammy/Emmy</th>\n",
       "    </tr>\n",
       "  </thead>\n",
       "  <tbody>\n",
       "    <tr>\n",
       "      <th>0</th>\n",
       "      <td>Adele</td>\n",
       "      <td>2008</td>\n",
       "      <td>19</td>\n",
       "      <td>2009.0</td>\n",
       "    </tr>\n",
       "    <tr>\n",
       "      <th>1</th>\n",
       "      <td>Angelina Jolie</td>\n",
       "      <td>1999</td>\n",
       "      <td>Girl, Interrupted</td>\n",
       "      <td>1999.0</td>\n",
       "    </tr>\n",
       "    <tr>\n",
       "      <th>2</th>\n",
       "      <td>Aretha Franklin</td>\n",
       "      <td>1967</td>\n",
       "      <td>I Never Loved a Man (The Way I Love You)</td>\n",
       "      <td>1968.0</td>\n",
       "    </tr>\n",
       "    <tr>\n",
       "      <th>3</th>\n",
       "      <td>Bette Davis</td>\n",
       "      <td>1934</td>\n",
       "      <td>Of Human Bondage</td>\n",
       "      <td>1935.0</td>\n",
       "    </tr>\n",
       "    <tr>\n",
       "      <th>4</th>\n",
       "      <td>Betty White</td>\n",
       "      <td>1952</td>\n",
       "      <td>Life with Elilzabeth</td>\n",
       "      <td>1976.0</td>\n",
       "    </tr>\n",
       "    <tr>\n",
       "      <th>...</th>\n",
       "      <td>...</td>\n",
       "      <td>...</td>\n",
       "      <td>...</td>\n",
       "      <td>...</td>\n",
       "    </tr>\n",
       "    <tr>\n",
       "      <th>65</th>\n",
       "      <td>Tom Hanks</td>\n",
       "      <td>1984</td>\n",
       "      <td>Splash</td>\n",
       "      <td>1993.0</td>\n",
       "    </tr>\n",
       "    <tr>\n",
       "      <th>66</th>\n",
       "      <td>Tony Bennett</td>\n",
       "      <td>1951</td>\n",
       "      <td>Because of You</td>\n",
       "      <td>1963.0</td>\n",
       "    </tr>\n",
       "    <tr>\n",
       "      <th>67</th>\n",
       "      <td>Wayne Newton</td>\n",
       "      <td>1972</td>\n",
       "      <td>Daddy, Don't You Walk So Fast</td>\n",
       "      <td>NaN</td>\n",
       "    </tr>\n",
       "    <tr>\n",
       "      <th>68</th>\n",
       "      <td>Will Smith</td>\n",
       "      <td>1990</td>\n",
       "      <td>The Fresh Prince of Bel-Air</td>\n",
       "      <td>1988.0</td>\n",
       "    </tr>\n",
       "    <tr>\n",
       "      <th>69</th>\n",
       "      <td>Willie Nelson</td>\n",
       "      <td>1975</td>\n",
       "      <td>Red Headed Stranger</td>\n",
       "      <td>1976.0</td>\n",
       "    </tr>\n",
       "  </tbody>\n",
       "</table>\n",
       "<p>70 rows × 4 columns</p>\n",
       "</div>"
      ],
      "text/plain": [
       "        Entertainer  Year of Breakthrough/#1 Hit/Award Nomination  \\\n",
       "0             Adele                                          2008   \n",
       "1    Angelina Jolie                                          1999   \n",
       "2   Aretha Franklin                                          1967   \n",
       "3       Bette Davis                                          1934   \n",
       "4       Betty White                                          1952   \n",
       "..              ...                                           ...   \n",
       "65        Tom Hanks                                          1984   \n",
       "66     Tony Bennett                                          1951   \n",
       "67     Wayne Newton                                          1972   \n",
       "68       Will Smith                                          1990   \n",
       "69    Willie Nelson                                          1975   \n",
       "\n",
       "                           Breakthrough Name  Year of First Oscar/Grammy/Emmy  \n",
       "0                                         19                           2009.0  \n",
       "1                          Girl, Interrupted                           1999.0  \n",
       "2   I Never Loved a Man (The Way I Love You)                           1968.0  \n",
       "3                           Of Human Bondage                           1935.0  \n",
       "4                       Life with Elilzabeth                           1976.0  \n",
       "..                                       ...                              ...  \n",
       "65                                    Splash                           1993.0  \n",
       "66                            Because of You                           1963.0  \n",
       "67             Daddy, Don't You Walk So Fast                              NaN  \n",
       "68               The Fresh Prince of Bel-Air                           1988.0  \n",
       "69                       Red Headed Stranger                           1976.0  \n",
       "\n",
       "[70 rows x 4 columns]"
      ]
     },
     "execution_count": 17,
     "metadata": {},
     "output_type": "execute_result"
    }
   ],
   "source": [
    "data2"
   ]
  },
  {
   "cell_type": "code",
   "execution_count": 8,
   "id": "ab97ef55",
   "metadata": {},
   "outputs": [],
   "source": [
    "data3 = pd.read_excel(r\"C:\\Users\\Dell\\OneDrive\\Desktop\\unified mentor\\Entertainer Data\\Entertainer Data Analysis\\Entertainer - Last work Info.xlsx\")"
   ]
  },
  {
   "cell_type": "code",
   "execution_count": 10,
   "id": "03ff2793",
   "metadata": {},
   "outputs": [
    {
     "data": {
      "text/html": [
       "<div>\n",
       "<style scoped>\n",
       "    .dataframe tbody tr th:only-of-type {\n",
       "        vertical-align: middle;\n",
       "    }\n",
       "\n",
       "    .dataframe tbody tr th {\n",
       "        vertical-align: top;\n",
       "    }\n",
       "\n",
       "    .dataframe thead th {\n",
       "        text-align: right;\n",
       "    }\n",
       "</style>\n",
       "<table border=\"1\" class=\"dataframe\">\n",
       "  <thead>\n",
       "    <tr style=\"text-align: right;\">\n",
       "      <th></th>\n",
       "      <th>Entertainer</th>\n",
       "      <th>Year of Last Major Work (arguable)</th>\n",
       "      <th>Year of Death</th>\n",
       "    </tr>\n",
       "  </thead>\n",
       "  <tbody>\n",
       "    <tr>\n",
       "      <th>0</th>\n",
       "      <td>Adele</td>\n",
       "      <td>2016</td>\n",
       "      <td>NaN</td>\n",
       "    </tr>\n",
       "    <tr>\n",
       "      <th>1</th>\n",
       "      <td>Angelina Jolie</td>\n",
       "      <td>2016</td>\n",
       "      <td>NaN</td>\n",
       "    </tr>\n",
       "    <tr>\n",
       "      <th>2</th>\n",
       "      <td>Aretha Franklin</td>\n",
       "      <td>2014</td>\n",
       "      <td>NaN</td>\n",
       "    </tr>\n",
       "    <tr>\n",
       "      <th>3</th>\n",
       "      <td>Bette Davis</td>\n",
       "      <td>1989</td>\n",
       "      <td>1989.0</td>\n",
       "    </tr>\n",
       "    <tr>\n",
       "      <th>4</th>\n",
       "      <td>Betty White</td>\n",
       "      <td>2016</td>\n",
       "      <td>NaN</td>\n",
       "    </tr>\n",
       "    <tr>\n",
       "      <th>...</th>\n",
       "      <td>...</td>\n",
       "      <td>...</td>\n",
       "      <td>...</td>\n",
       "    </tr>\n",
       "    <tr>\n",
       "      <th>65</th>\n",
       "      <td>Tom Hanks</td>\n",
       "      <td>2016</td>\n",
       "      <td>NaN</td>\n",
       "    </tr>\n",
       "    <tr>\n",
       "      <th>66</th>\n",
       "      <td>Tony Bennett</td>\n",
       "      <td>2016</td>\n",
       "      <td>NaN</td>\n",
       "    </tr>\n",
       "    <tr>\n",
       "      <th>67</th>\n",
       "      <td>Wayne Newton</td>\n",
       "      <td>2016</td>\n",
       "      <td>NaN</td>\n",
       "    </tr>\n",
       "    <tr>\n",
       "      <th>68</th>\n",
       "      <td>Will Smith</td>\n",
       "      <td>2016</td>\n",
       "      <td>NaN</td>\n",
       "    </tr>\n",
       "    <tr>\n",
       "      <th>69</th>\n",
       "      <td>Willie Nelson</td>\n",
       "      <td>2016</td>\n",
       "      <td>NaN</td>\n",
       "    </tr>\n",
       "  </tbody>\n",
       "</table>\n",
       "<p>70 rows × 3 columns</p>\n",
       "</div>"
      ],
      "text/plain": [
       "        Entertainer  Year of Last Major Work (arguable)  Year of Death\n",
       "0             Adele                                2016            NaN\n",
       "1    Angelina Jolie                                2016            NaN\n",
       "2   Aretha Franklin                                2014            NaN\n",
       "3       Bette Davis                                1989         1989.0\n",
       "4       Betty White                                2016            NaN\n",
       "..              ...                                 ...            ...\n",
       "65        Tom Hanks                                2016            NaN\n",
       "66     Tony Bennett                                2016            NaN\n",
       "67     Wayne Newton                                2016            NaN\n",
       "68       Will Smith                                2016            NaN\n",
       "69    Willie Nelson                                2016            NaN\n",
       "\n",
       "[70 rows x 3 columns]"
      ]
     },
     "execution_count": 10,
     "metadata": {},
     "output_type": "execute_result"
    }
   ],
   "source": [
    "data3"
   ]
  },
  {
   "cell_type": "code",
   "execution_count": 11,
   "id": "da203273",
   "metadata": {},
   "outputs": [
    {
     "data": {
      "text/html": [
       "<div>\n",
       "<style scoped>\n",
       "    .dataframe tbody tr th:only-of-type {\n",
       "        vertical-align: middle;\n",
       "    }\n",
       "\n",
       "    .dataframe tbody tr th {\n",
       "        vertical-align: top;\n",
       "    }\n",
       "\n",
       "    .dataframe thead th {\n",
       "        text-align: right;\n",
       "    }\n",
       "</style>\n",
       "<table border=\"1\" class=\"dataframe\">\n",
       "  <thead>\n",
       "    <tr style=\"text-align: right;\">\n",
       "      <th></th>\n",
       "      <th>Entertainer</th>\n",
       "      <th>Gender (traditional)</th>\n",
       "      <th>Birth Year</th>\n",
       "    </tr>\n",
       "  </thead>\n",
       "  <tbody>\n",
       "    <tr>\n",
       "      <th>0</th>\n",
       "      <td>Adele</td>\n",
       "      <td>F</td>\n",
       "      <td>1988</td>\n",
       "    </tr>\n",
       "    <tr>\n",
       "      <th>1</th>\n",
       "      <td>Angelina Jolie</td>\n",
       "      <td>F</td>\n",
       "      <td>1975</td>\n",
       "    </tr>\n",
       "    <tr>\n",
       "      <th>2</th>\n",
       "      <td>Aretha Franklin</td>\n",
       "      <td>F</td>\n",
       "      <td>1942</td>\n",
       "    </tr>\n",
       "    <tr>\n",
       "      <th>3</th>\n",
       "      <td>Bette Davis</td>\n",
       "      <td>F</td>\n",
       "      <td>1908</td>\n",
       "    </tr>\n",
       "    <tr>\n",
       "      <th>4</th>\n",
       "      <td>Betty White</td>\n",
       "      <td>F</td>\n",
       "      <td>1922</td>\n",
       "    </tr>\n",
       "  </tbody>\n",
       "</table>\n",
       "</div>"
      ],
      "text/plain": [
       "       Entertainer Gender (traditional)  Birth Year\n",
       "0            Adele                    F        1988\n",
       "1   Angelina Jolie                    F        1975\n",
       "2  Aretha Franklin                    F        1942\n",
       "3      Bette Davis                    F        1908\n",
       "4      Betty White                    F        1922"
      ]
     },
     "execution_count": 11,
     "metadata": {},
     "output_type": "execute_result"
    }
   ],
   "source": [
    "data1.head()"
   ]
  },
  {
   "cell_type": "code",
   "execution_count": 18,
   "id": "d2682dfc",
   "metadata": {},
   "outputs": [
    {
     "data": {
      "text/html": [
       "<div>\n",
       "<style scoped>\n",
       "    .dataframe tbody tr th:only-of-type {\n",
       "        vertical-align: middle;\n",
       "    }\n",
       "\n",
       "    .dataframe tbody tr th {\n",
       "        vertical-align: top;\n",
       "    }\n",
       "\n",
       "    .dataframe thead th {\n",
       "        text-align: right;\n",
       "    }\n",
       "</style>\n",
       "<table border=\"1\" class=\"dataframe\">\n",
       "  <thead>\n",
       "    <tr style=\"text-align: right;\">\n",
       "      <th></th>\n",
       "      <th>Entertainer</th>\n",
       "      <th>Year of Breakthrough/#1 Hit/Award Nomination</th>\n",
       "      <th>Breakthrough Name</th>\n",
       "      <th>Year of First Oscar/Grammy/Emmy</th>\n",
       "    </tr>\n",
       "  </thead>\n",
       "  <tbody>\n",
       "    <tr>\n",
       "      <th>0</th>\n",
       "      <td>Adele</td>\n",
       "      <td>2008</td>\n",
       "      <td>19</td>\n",
       "      <td>2009.0</td>\n",
       "    </tr>\n",
       "    <tr>\n",
       "      <th>1</th>\n",
       "      <td>Angelina Jolie</td>\n",
       "      <td>1999</td>\n",
       "      <td>Girl, Interrupted</td>\n",
       "      <td>1999.0</td>\n",
       "    </tr>\n",
       "    <tr>\n",
       "      <th>2</th>\n",
       "      <td>Aretha Franklin</td>\n",
       "      <td>1967</td>\n",
       "      <td>I Never Loved a Man (The Way I Love You)</td>\n",
       "      <td>1968.0</td>\n",
       "    </tr>\n",
       "    <tr>\n",
       "      <th>3</th>\n",
       "      <td>Bette Davis</td>\n",
       "      <td>1934</td>\n",
       "      <td>Of Human Bondage</td>\n",
       "      <td>1935.0</td>\n",
       "    </tr>\n",
       "    <tr>\n",
       "      <th>4</th>\n",
       "      <td>Betty White</td>\n",
       "      <td>1952</td>\n",
       "      <td>Life with Elilzabeth</td>\n",
       "      <td>1976.0</td>\n",
       "    </tr>\n",
       "  </tbody>\n",
       "</table>\n",
       "</div>"
      ],
      "text/plain": [
       "       Entertainer  Year of Breakthrough/#1 Hit/Award Nomination  \\\n",
       "0            Adele                                          2008   \n",
       "1   Angelina Jolie                                          1999   \n",
       "2  Aretha Franklin                                          1967   \n",
       "3      Bette Davis                                          1934   \n",
       "4      Betty White                                          1952   \n",
       "\n",
       "                          Breakthrough Name  Year of First Oscar/Grammy/Emmy  \n",
       "0                                        19                           2009.0  \n",
       "1                         Girl, Interrupted                           1999.0  \n",
       "2  I Never Loved a Man (The Way I Love You)                           1968.0  \n",
       "3                          Of Human Bondage                           1935.0  \n",
       "4                      Life with Elilzabeth                           1976.0  "
      ]
     },
     "execution_count": 18,
     "metadata": {},
     "output_type": "execute_result"
    }
   ],
   "source": [
    "data2.head()"
   ]
  },
  {
   "cell_type": "code",
   "execution_count": 13,
   "id": "5f1171d5",
   "metadata": {},
   "outputs": [
    {
     "data": {
      "text/html": [
       "<div>\n",
       "<style scoped>\n",
       "    .dataframe tbody tr th:only-of-type {\n",
       "        vertical-align: middle;\n",
       "    }\n",
       "\n",
       "    .dataframe tbody tr th {\n",
       "        vertical-align: top;\n",
       "    }\n",
       "\n",
       "    .dataframe thead th {\n",
       "        text-align: right;\n",
       "    }\n",
       "</style>\n",
       "<table border=\"1\" class=\"dataframe\">\n",
       "  <thead>\n",
       "    <tr style=\"text-align: right;\">\n",
       "      <th></th>\n",
       "      <th>Entertainer</th>\n",
       "      <th>Year of Last Major Work (arguable)</th>\n",
       "      <th>Year of Death</th>\n",
       "    </tr>\n",
       "  </thead>\n",
       "  <tbody>\n",
       "    <tr>\n",
       "      <th>0</th>\n",
       "      <td>Adele</td>\n",
       "      <td>2016</td>\n",
       "      <td>NaN</td>\n",
       "    </tr>\n",
       "    <tr>\n",
       "      <th>1</th>\n",
       "      <td>Angelina Jolie</td>\n",
       "      <td>2016</td>\n",
       "      <td>NaN</td>\n",
       "    </tr>\n",
       "    <tr>\n",
       "      <th>2</th>\n",
       "      <td>Aretha Franklin</td>\n",
       "      <td>2014</td>\n",
       "      <td>NaN</td>\n",
       "    </tr>\n",
       "    <tr>\n",
       "      <th>3</th>\n",
       "      <td>Bette Davis</td>\n",
       "      <td>1989</td>\n",
       "      <td>1989.0</td>\n",
       "    </tr>\n",
       "    <tr>\n",
       "      <th>4</th>\n",
       "      <td>Betty White</td>\n",
       "      <td>2016</td>\n",
       "      <td>NaN</td>\n",
       "    </tr>\n",
       "  </tbody>\n",
       "</table>\n",
       "</div>"
      ],
      "text/plain": [
       "       Entertainer  Year of Last Major Work (arguable)  Year of Death\n",
       "0            Adele                                2016            NaN\n",
       "1   Angelina Jolie                                2016            NaN\n",
       "2  Aretha Franklin                                2014            NaN\n",
       "3      Bette Davis                                1989         1989.0\n",
       "4      Betty White                                2016            NaN"
      ]
     },
     "execution_count": 13,
     "metadata": {},
     "output_type": "execute_result"
    }
   ],
   "source": [
    "data3.head()"
   ]
  },
  {
   "cell_type": "code",
   "execution_count": 19,
   "id": "87b26db3",
   "metadata": {},
   "outputs": [
    {
     "data": {
      "text/plain": [
       "Entertainer             0\n",
       "Gender (traditional)    0\n",
       "Birth Year              0\n",
       "dtype: int64"
      ]
     },
     "execution_count": 19,
     "metadata": {},
     "output_type": "execute_result"
    }
   ],
   "source": [
    "data1.isna().sum()"
   ]
  },
  {
   "cell_type": "code",
   "execution_count": 20,
   "id": "269379e9",
   "metadata": {},
   "outputs": [
    {
     "data": {
      "text/plain": [
       "Entertainer                                     0\n",
       "Year of Breakthrough/#1 Hit/Award Nomination    0\n",
       "Breakthrough Name                               0\n",
       "Year of First Oscar/Grammy/Emmy                 6\n",
       "dtype: int64"
      ]
     },
     "execution_count": 20,
     "metadata": {},
     "output_type": "execute_result"
    }
   ],
   "source": [
    "data2.isna().sum()"
   ]
  },
  {
   "cell_type": "code",
   "execution_count": 21,
   "id": "29a25c88",
   "metadata": {},
   "outputs": [
    {
     "data": {
      "text/plain": [
       "Entertainer                            0\n",
       "Year of Last Major Work (arguable)     0\n",
       "Year of Death                         40\n",
       "dtype: int64"
      ]
     },
     "execution_count": 21,
     "metadata": {},
     "output_type": "execute_result"
    }
   ],
   "source": [
    "data3.isna().sum()"
   ]
  },
  {
   "cell_type": "code",
   "execution_count": 22,
   "id": "fd50b6dd",
   "metadata": {},
   "outputs": [
    {
     "name": "stdout",
     "output_type": "stream",
     "text": [
      "        Entertainer  Year of Last Major Work (arguable)  Year of Death\n",
      "0             Adele                                2016    1988.133333\n",
      "1    Angelina Jolie                                2016    1988.133333\n",
      "2   Aretha Franklin                                2014    1988.133333\n",
      "3       Bette Davis                                1989    1989.000000\n",
      "4       Betty White                                2016    1988.133333\n",
      "..              ...                                 ...            ...\n",
      "65        Tom Hanks                                2016    1988.133333\n",
      "66     Tony Bennett                                2016    1988.133333\n",
      "67     Wayne Newton                                2016    1988.133333\n",
      "68       Will Smith                                2016    1988.133333\n",
      "69    Willie Nelson                                2016    1988.133333\n",
      "\n",
      "[70 rows x 3 columns]\n"
     ]
    },
    {
     "name": "stderr",
     "output_type": "stream",
     "text": [
      "C:\\Users\\Dell\\AppData\\Local\\Temp\\ipykernel_32240\\1236344950.py:1: FutureWarning: Dropping of nuisance columns in DataFrame reductions (with 'numeric_only=None') is deprecated; in a future version this will raise TypeError.  Select only valid columns before calling the reduction.\n",
      "  data3 = data3.fillna(data3.mean())\n"
     ]
    }
   ],
   "source": [
    "data3 = data3.fillna(data3.mean())\n",
    "print(data3)"
   ]
  },
  {
   "cell_type": "code",
   "execution_count": 23,
   "id": "8b0e60df",
   "metadata": {},
   "outputs": [
    {
     "data": {
      "text/plain": [
       "Entertainer                           0\n",
       "Year of Last Major Work (arguable)    0\n",
       "Year of Death                         0\n",
       "dtype: int64"
      ]
     },
     "execution_count": 23,
     "metadata": {},
     "output_type": "execute_result"
    }
   ],
   "source": [
    "data3.isna().sum()"
   ]
  },
  {
   "cell_type": "markdown",
   "id": "d227a8e4",
   "metadata": {},
   "source": [
    "# Visualization"
   ]
  },
  {
   "cell_type": "code",
   "execution_count": 24,
   "id": "345c384f",
   "metadata": {},
   "outputs": [
    {
     "data": {
      "image/png": "[encoded data removed]",
      "text/plain": [
       "<Figure size 800x600 with 1 Axes>"
      ]
     },
     "metadata": {},
     "output_type": "display_data"
    }
   ],
   "source": [
    "dataset_names = [\"data1\", \"data2\", \"data3\"]\n",
    "num_entertainers = [len(data1), len(data2), len(data3)]\n",
    "\n",
    "plt.figure(figsize=(8, 6))\n",
    "plt.bar(dataset_names, num_entertainers, color=['blue', 'green', 'orange'])\n",
    "plt.xlabel(\"Datasets\")\n",
    "plt.ylabel(\"Number of Entertainers\")\n",
    "plt.title(\"Number of Entertainers in Each Dataset\")\n",
    "plt.show()"
   ]
  },
  {
   "cell_type": "code",
   "execution_count": 25,
   "id": "15fd5ef2",
   "metadata": {},
   "outputs": [
    {
     "data": {
      "image/png": "[encoded data removed]",
      "text/plain": [
       "<Figure size 800x600 with 1 Axes>"
      ]
     },
     "metadata": {},
     "output_type": "display_data"
    }
   ],
   "source": [
    "plt.figure(figsize=(8, 6))\n",
    "plt.hist(data1[\"Birth Year\"], bins=10, edgecolor='black')\n",
    "plt.xlabel(\"Birth Year\")\n",
    "plt.ylabel(\"Frequency\")\n",
    "plt.title(\"Distribution of Birth Years in data1\")\n",
    "plt.show()\n"
   ]
  },
  {
   "cell_type": "code",
   "execution_count": 26,
   "id": "6c3226e5",
   "metadata": {},
   "outputs": [
    {
     "data": {
      "image/png": "[encoded data removed]",
      "text/plain": [
       "<Figure size 600x600 with 1 Axes>"
      ]
     },
     "metadata": {},
     "output_type": "display_data"
    }
   ],
   "source": [
    "pre_1950_count = data1[data1[\"Birth Year\"] < 1950].shape[0]\n",
    "total_count = len(data1)\n",
    "post_1950_count = total_count - pre_1950_count\n",
    "percentages = [pre_1950_count / total_count * 100, post_1950_count / total_count * 100]\n",
    "labels = [\"Born Before 1950\", \"Born After 1950\"]\n",
    "\n",
    "plt.figure(figsize=(6, 6))\n",
    "plt.pie(percentages, labels=labels, autopct=\"%1.1f%%\", startangle=90)\n",
    "plt.title(\"Percentage of Entertainers Born Before 1950 (data1)\")\n",
    "plt.show()\n"
   ]
  },
  {
   "cell_type": "markdown",
   "id": "50ae2a26",
   "metadata": {},
   "source": [
    "# Scatter Plot - Birth Year vs. Career Length (data1, data3)"
   ]
  },
  {
   "cell_type": "code",
   "execution_count": 28,
   "id": "1b459135",
   "metadata": {},
   "outputs": [
    {
     "data": {
      "image/png": "[encoded data removed]",
      "text/plain": [
       "<Figure size 800x600 with 1 Axes>"
      ]
     },
     "metadata": {},
     "output_type": "display_data"
    }
   ],
   "source": [
    "# Assuming \"Year of Last Major Work\" is present (might be missing in data3)\n",
    "data1[\"Year of Last Work\"] = data3[\"Year of Last Major Work (arguable)\"].fillna(0)\n",
    "data1[\"Career Length\"] = data1[\"Year of Last Work\"] - data1[\"Birth Year\"]\n",
    "\n",
    "plt.figure(figsize=(8, 6))\n",
    "plt.scatter(data1[\"Birth Year\"], data1[\"Career Length\"])\n",
    "plt.xlabel(\"Birth Year\")\n",
    "plt.ylabel(\"Career Length (Years)\")\n",
    "plt.title(\"Relationship Between Birth Year and Career Length (data1, data3)\")\n",
    "plt.grid(True)\n",
    "plt.show()\n"
   ]
  },
  {
   "cell_type": "markdown",
   "id": "fb9e6cf1",
   "metadata": {},
   "source": [
    "# Heatmap - Correlation Matrix (data1, data3)"
   ]
  },
  {
   "cell_type": "code",
   "execution_count": 29,
   "id": "02839cd1",
   "metadata": {},
   "outputs": [
    {
     "data": {
      "image/png": "[encoded data removed]",
      "text/plain": [
       "<Figure size 1000x600 with 2 Axes>"
      ]
     },
     "metadata": {},
     "output_type": "display_data"
    }
   ],
   "source": [
    "import seaborn as sns\n",
    "\n",
    "# Assuming \"Year of Last Major Work\" is present (might be missing in data3)\n",
    "data1[\"Year of Last Work\"] = data3[\"Year of Last Major Work (arguable)\"].fillna(0)\n",
    "correlation_matrix = data1.corr()\n",
    "\n",
    "plt.figure(figsize=(10, 6))\n",
    "sns.heatmap(correlation_matrix, annot=True, cmap='coolwarm')\n",
    "plt.title(\"Correlation Matrix Between Features (data1, data3)\")\n",
    "plt.show()\n"
   ]
  },
  {
   "cell_type": "code",
   "execution_count": null,
   "id": "9c807fe4",
   "metadata": {},
   "outputs": [],
   "source": []
  }
 ],
 "metadata": {
  "kernelspec": {
   "display_name": "Python 3 (ipykernel)",
   "language": "python",
   "name": "python3"
  },
  "language_info": {
   "codemirror_mode": {
    "name": "ipython",
    "version": 3
   },
   "file_extension": ".py",
   "mimetype": "text/x-python",
   "name": "python",
   "nbconvert_exporter": "python",
   "pygments_lexer": "ipython3",
   "version": "3.9.13"
  }
 },
 "nbformat": 4,
 "nbformat_minor": 5
}
